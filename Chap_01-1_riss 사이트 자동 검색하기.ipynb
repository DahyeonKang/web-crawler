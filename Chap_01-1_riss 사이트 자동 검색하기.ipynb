{
 "cells": [
  {
   "cell_type": "code",
   "execution_count": 4,
   "metadata": {},
   "outputs": [
    {
     "name": "stdout",
     "output_type": "stream",
     "text": [
      "====================================================================================================\n",
      " 이 크롤러는 RISS 사이트의 논문 및 학술자료 수집용 웹크롤러입니다.\n",
      "====================================================================================================\n",
      "1.수집할 자료의 키워드는 무엇입니까?(여러개일 경우 , 로 구분하여 입력): pc\n",
      "\n",
      "\n"
     ]
    },
    {
     "name": "stderr",
     "output_type": "stream",
     "text": [
      "C:\\ProgramData\\Anaconda3\\lib\\site-packages\\ipykernel_launcher.py:35: DeprecationWarning: use driver.switch_to.window instead\n"
     ]
    }
   ],
   "source": [
    "# riss.kr 에서 특정 키워드로 논문 / 학술 자료 검색하기\n",
    "\n",
    "#Step 1. 필요한 모듈을 로딩합니다\n",
    "from selenium import webdriver\n",
    "import time          \n",
    "\n",
    "#Step 2. 사용자에게 검색 관련 정보들을 입력 받습니다.\n",
    "print(\"=\" *100)\n",
    "print(\" 이 크롤러는 RISS 사이트의 논문 및 학술자료 수집용 웹크롤러입니다.\")\n",
    "print(\"=\" *100)\n",
    "query_txt = input('1.수집할 자료의 키워드는 무엇입니까?(여러개일 경우 , 로 구분하여 입력): ')\n",
    "\n",
    "#query_txt = '해양자원,도시재생'\n",
    "print(\"\\n\")\n",
    "\n",
    "#Step 3. 크롬 드라이버 설정 및 웹 페이지 열기\n",
    "    # 나는 여기서 크롬브라우저를 설정하는데 있어서 어떤 방법을 해도 오류가 발생한다.\n",
    "    # 따라서 가능한 방법이 webdriver.Chrome('chromedriver') 와 webdriver.Chrome() 이다.\n",
    "    # 이유는 아직 모르겠다..\n",
    "#chrome_path = \"‪c://py_temp//chromedriver.exe\"\n",
    "driver = webdriver.Chrome('chromedriver.exe')\n",
    "\n",
    "#url = 'http://www.riss.kr/'\n",
    "driver.get('http://www.riss.kr/')\n",
    "time.sleep(2)\n",
    "\n",
    "# 팝업창 닫는 작업\n",
    "# driver.switch_to_window(driver.window_handles[1])\n",
    "# driver.close()\n",
    "\n",
    "# driver.switch_to_window(driver.window_handles[1])\n",
    "# driver.close()\n",
    "\n",
    "time.sleep(2)\n",
    "driver.switch_to_window(driver.window_handles[0])\n",
    "\n",
    "time.sleep(2)\n",
    "driver.maximize_window()\n",
    "\n",
    "# #Step 4. 자동으로 검색어 입력 후 조회하기\n",
    "# element = driver.find_element_by_id(\"query\")\n",
    "# driver.find_element_by_id(\"query\").click( )\n",
    "# element.send_keys(query_txt)\n",
    "# element.send_keys(\"\\n\")\n",
    "\n",
    "driver.find_element_by_id(\"query\").send_keys(query_txt + \"\\n\")\n",
    "# 이 코드와 위의 4줄 코드는 같은 의미이다."
   ]
  },
  {
   "cell_type": "code",
   "execution_count": null,
   "metadata": {},
   "outputs": [],
   "source": []
  }
 ],
 "metadata": {
  "kernelspec": {
   "display_name": "Python 3",
   "language": "python",
   "name": "python3"
  },
  "toc": {
   "base_numbering": 1,
   "nav_menu": {},
   "number_sections": true,
   "sideBar": true,
   "skip_h1_title": false,
   "title_cell": "Table of Contents",
   "title_sidebar": "Contents",
   "toc_cell": false,
   "toc_position": {},
   "toc_section_display": true,
   "toc_window_display": false
  },
  "varInspector": {
   "cols": {
    "lenName": 16,
    "lenType": 16,
    "lenVar": 40
   },
   "kernels_config": {
    "python": {
     "delete_cmd_postfix": "",
     "delete_cmd_prefix": "del ",
     "library": "var_list.py",
     "varRefreshCmd": "print(var_dic_list())"
    },
    "r": {
     "delete_cmd_postfix": ") ",
     "delete_cmd_prefix": "rm(",
     "library": "var_list.r",
     "varRefreshCmd": "cat(var_dic_list()) "
    }
   },
   "types_to_exclude": [
    "module",
    "function",
    "builtin_function_or_method",
    "instance",
    "_Feature"
   ],
   "window_display": false
  }
 },
 "nbformat": 4,
 "nbformat_minor": 4
}
